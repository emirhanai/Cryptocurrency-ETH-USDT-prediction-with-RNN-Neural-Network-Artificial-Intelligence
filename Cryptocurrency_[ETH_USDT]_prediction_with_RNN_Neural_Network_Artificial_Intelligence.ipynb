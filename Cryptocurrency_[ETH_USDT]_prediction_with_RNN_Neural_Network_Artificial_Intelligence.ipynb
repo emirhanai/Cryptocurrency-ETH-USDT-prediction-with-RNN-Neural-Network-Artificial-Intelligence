{
  "cells": [
    {
      "cell_type": "markdown",
      "source": [
        "# Cryptocurrency [ETH/USDT] prediction with RNN Neural Network Artificial Intelligence\\:"
      ],
      "metadata": {
        "id": "74tWKL7kb4Cg"
      }
    },
    {
      "cell_type": "markdown",
      "source": [
        "Cryptocurrency [ETH/USDT] prediction with RNN Neural Network Artificial Intelligence - Emirhan BULUT\n",
        "I developed Cryptocurrency [ETH/USDT] prediction with RNN Neural Network software with Artificial Intelligence. I predicted the fall on February 24, 2022 with 98.21% accuracy in the ETH/USDT pair. '0.03979729297154955' MAE Score, '0.0023235646943942415' MSE Score, 98.35% Accuracy Question software has been completed.\n",
        "\n",
        "The ETH/USDT pair forecast for February 24, 2022 was correctly forecasted based on data from Binance.\n",
        "\n",
        "Software codes and information are shared with you as open source code free of charge on GitHub and My Personal Web Address.\n",
        "\n",
        "Happy learning!\n",
        "\n",
        "Emirhan BULUT\n",
        "\n",
        "Senior Artificial Intelligence Engineer and Inventor\n",
        "\n",
        "\n",
        "###**The coding language used:**\n",
        "\n",
        "`Python 3.9.8`\n",
        "\n",
        "###**Libraries Used:**\n",
        "\n",
        "`Tensorflow - Keras`\n",
        "\n",
        "`NumPy`\n",
        "\n",
        "`Matplotlib`\n",
        "\n",
        "`Pandas`\n",
        "\n",
        "`Scikit-learn (SKLEARN)`\n",
        "\n",
        "<img class=\"fit-picture\"\n",
        "     src=\"https://raw.githubusercontent.com/emirhanai/Cryptocurrency-ETH-USDT-prediction-with-RNN-Neural-Network-Artificial-Intelligence/main/ETH-USDT%20with%20RNN%20Neural%20Network%20Artificial%20Intelligence.png\"\n",
        "     alt=\"Cryptocurrency [ETH/USDT] prediction with RNN Neural Network Artificial Intelligence- Emirhan BULUT\">\n",
        "     \n",
        "### **Developer Information:**\n",
        "\n",
        "Name-Surname: **Emirhan BULUT**\n",
        "\n",
        "Contact (Email) : **emirhan.bulut@turkiyeyapayzeka.com**\n",
        "\n",
        "LinkedIn : **[https://www.linkedin.com/in/artificialintelligencebulut/][LinkedinAccount]**\n",
        "\n",
        "[LinkedinAccount]: https://www.linkedin.com/in/artificialintelligencebulut/\n",
        "\n",
        "Kaggle: **[https://www.kaggle.com/emirhanai][Kaggle]**\n",
        "\n",
        "Official Website: **[https://www.emirhanbulut.com.tr][OfficialWebSite]**\n",
        "\n",
        "[Kaggle]: https://www.kaggle.com/emirhanai\n",
        "\n",
        "[OfficialWebSite]: https://www.emirhanbulut.com.tr\n"
      ],
      "metadata": {
        "id": "_Nimw_Ahc9BU"
      }
    },
    {
      "cell_type": "markdown",
      "source": [
        "\n",
        "\n",
        "```Prediction: \n",
        "-0.04899706 equeals of 2608.594277 USDT\n",
        "Real ETH Value (for 2/24/2022) is 2562.79248 \n",
        "Test Accuracy is %98.21```\n",
        "\n"
      ],
      "metadata": {
        "id": "ot0JS-Eub7LN"
      }
    },
    {
      "cell_type": "code",
      "execution_count": 154,
      "metadata": {
        "id": "Bk2m_4TChMIS"
      },
      "outputs": [],
      "source": [
        "from tensorflow.keras.models import Sequential\n",
        "from tensorflow.keras.layers import Activation, Dense, Dropout\n",
        "import matplotlib.pyplot as plt\n",
        "import numpy as np\n",
        "import pandas as pd\n",
        "from sklearn.metrics import mean_absolute_error"
      ]
    },
    {
      "cell_type": "code",
      "execution_count": 117,
      "metadata": {
        "colab": {
          "base_uri": "https://localhost:8080/"
        },
        "id": "rqsutzJBwjS_",
        "outputId": "516cad9b-acd2-4231-c843-5cfc6ecac2bd"
      },
      "outputs": [
        {
          "output_type": "stream",
          "name": "stdout",
          "text": [
            "        Date         Open         High          Low       Volume\n",
            "0  2/23/2022  2639.447021  2741.368408  2587.412842  13382637240\n",
            "1  2/22/2022  2572.898682  2648.916748  2510.678711  16360200507\n",
            "2  2/21/2022  2627.665527  2752.458496  2568.254395  18646392740\n",
            "3  2/20/2022  2763.756592  2763.756592  2585.946289  11641437834\n",
            "4  2/19/2022  2784.872803  2826.347900  2707.378418   9774183169\n"
          ]
        }
      ],
      "source": [
        "data = pd.read_csv(\"/content/ETH-USD (2).csv\")\n",
        "data = data.iloc[:,0:6]\n",
        "y = data.loc[:,['Close']]\n",
        "data = data.drop(['Close'],axis='columns')\n",
        "print(data.head(5))"
      ]
    },
    {
      "cell_type": "code",
      "execution_count": 118,
      "metadata": {
        "colab": {
          "base_uri": "https://localhost:8080/"
        },
        "id": "HCWV-p6b-xmS",
        "outputId": "e296db05-5809-42e5-bacc-4958b2f3d617"
      },
      "outputs": [
        {
          "output_type": "stream",
          "name": "stdout",
          "text": [
            "DatetimeIndex(['2022-02-23', '2022-02-22', '2022-02-21', '2022-02-20',\n",
            "               '2022-02-19', '2022-02-18', '2022-02-17', '2022-02-16',\n",
            "               '2022-02-15', '2022-02-14',\n",
            "               ...\n",
            "               '2017-11-18', '2017-11-17', '2017-11-16', '2017-11-15',\n",
            "               '2017-11-14', '2017-11-13', '2017-11-12', '2017-11-11',\n",
            "               '2017-11-10', '2017-11-09'],\n",
            "              dtype='datetime64[ns]', name='Date', length=1568, freq=None)\n"
          ]
        }
      ],
      "source": [
        "data = data.set_index('Date')\n",
        "data.index = pd.to_datetime(data.index,unit='ns')\n",
        "print(data.index)"
      ]
    },
    {
      "cell_type": "code",
      "source": [
        "import sklearn\n",
        "from sklearn.model_selection import train_test_split\n",
        "\n",
        "X_train = data[256:]\n",
        "X_test = data[:256]\n",
        "\n",
        "y_train = y[256:]\n",
        "y_test = y[:256]"
      ],
      "metadata": {
        "id": "kpwCNEZb_zky"
      },
      "execution_count": 119,
      "outputs": []
    },
    {
      "cell_type": "code",
      "execution_count": 120,
      "metadata": {
        "id": "fExReGBJz_qo"
      },
      "outputs": [],
      "source": [
        "aim = ['Close']"
      ]
    },
    {
      "cell_type": "code",
      "source": [
        "def line_plot(line1, line2, label1=None, label2=None, title='', lw=2):\n",
        "    fig, ax = plt.subplots(1, figsize=(13, 7))\n",
        "    ax.plot(line1, label=label1, linewidth=lw)\n",
        "    ax.plot(line2, label=label2, linewidth=lw)\n",
        "    ax.set_ylabel('ETH/USDT', fontsize=14)\n",
        "    ax.set_title(title, fontsize=16)\n",
        "    ax.legend(loc='best', fontsize=16);"
      ],
      "metadata": {
        "id": "9cOKOAkzKANT"
      },
      "execution_count": 121,
      "outputs": []
    },
    {
      "cell_type": "code",
      "execution_count": 122,
      "metadata": {
        "id": "lQi8Ho8g0V7E"
      },
      "outputs": [],
      "source": [
        "def normalise_zero_base(continuous):\n",
        "    return continuous / continuous.iloc[0] - 1"
      ]
    },
    {
      "cell_type": "code",
      "source": [
        "X_train = normalise_zero_base(X_train)\n",
        "X_test = normalise_zero_base(X_test)\n",
        "y_train = normalise_zero_base(y_train)\n",
        "y_test = normalise_zero_base(y_test)"
      ],
      "metadata": {
        "id": "NsNQ9o0GJ6_f"
      },
      "execution_count": 123,
      "outputs": []
    },
    {
      "cell_type": "code",
      "execution_count": 124,
      "metadata": {
        "id": "eEig8Nb12iC7"
      },
      "outputs": [],
      "source": [
        "import numpy as np\n",
        "X_train = np.expand_dims(X_train, axis=1)\n",
        "X_test = np.expand_dims(X_test,axis=1)"
      ]
    },
    {
      "cell_type": "code",
      "source": [
        "X_train.shape"
      ],
      "metadata": {
        "colab": {
          "base_uri": "https://localhost:8080/"
        },
        "id": "G0JM5mlhLv7I",
        "outputId": "be97e311-68a7-413b-a44b-79f42ef679a7"
      },
      "execution_count": 125,
      "outputs": [
        {
          "output_type": "execute_result",
          "data": {
            "text/plain": [
              "(1312, 1, 4)"
            ]
          },
          "metadata": {},
          "execution_count": 125
        }
      ]
    },
    {
      "cell_type": "code",
      "source": [
        "def line_plot(line1, line2, label1=None, label2=None, title='', lw=2):\n",
        "    fig, ax = plt.subplots(1, figsize=(13, 7))\n",
        "    ax.plot(line1, label=label1, linewidth=lw)\n",
        "    ax.plot(line2, label=label2, linewidth=lw)\n",
        "    ax.set_ylabel('ETH/USDT', fontsize=14)\n",
        "    ax.set_title(title, fontsize=16)\n",
        "    ax.legend(loc='best', fontsize=16);"
      ],
      "metadata": {
        "id": "KZtqtKlVKp4K"
      },
      "execution_count": 127,
      "outputs": []
    },
    {
      "cell_type": "code",
      "execution_count": 132,
      "metadata": {
        "id": "wdEmnpEz01dg"
      },
      "outputs": [],
      "source": [
        "from tensorflow.python.keras.layers import SimpleRNNCell\n",
        "from tensorflow.python.keras.layers import RNN\n",
        "def build_lstm_model(input_data, output_size, neurons, activ_func='tanh',\n",
        "                     dropout=0.21, loss='mse', optimizer='adam'):\n",
        "    model = Sequential()\n",
        "    #model.add(LSTM(neurons,activation=\"tanh\",return_sequences=True))\n",
        "    model.add(RNN(cell=[SimpleRNNCell(128),\n",
        "                                      SimpleRNNCell(256),\n",
        "                                      SimpleRNNCell(128)]))\n",
        "    model.add(Dropout(dropout))\n",
        "    model.add(Dense(units=output_size))\n",
        "    model.add(Activation(activ_func))\n",
        "\n",
        "    model.compile(loss=loss, optimizer=optimizer)\n",
        "    return model\n",
        "np.random.seed(64)\n",
        "lstm_neurons = 256\n",
        "epochs = 16\n",
        "batch_size = 32\n",
        "loss = 'mse'\n",
        "dropout = 0.25\n",
        "optimizer = 'adam'"
      ]
    },
    {
      "cell_type": "code",
      "execution_count": 133,
      "metadata": {
        "colab": {
          "base_uri": "https://localhost:8080/"
        },
        "id": "d1TEOxBr1ALy",
        "outputId": "f333eb80-8c96-429f-d6aa-5e17da22ef68"
      },
      "outputs": [
        {
          "output_type": "stream",
          "name": "stdout",
          "text": [
            "Epoch 1/16\n",
            "41/41 [==============================] - 2s 14ms/step - loss: 0.0493 - val_loss: 0.0162\n",
            "Epoch 2/16\n",
            "41/41 [==============================] - 0s 6ms/step - loss: 0.0090 - val_loss: 0.0124\n",
            "Epoch 3/16\n",
            "41/41 [==============================] - 0s 6ms/step - loss: 0.0052 - val_loss: 0.0141\n",
            "Epoch 4/16\n",
            "41/41 [==============================] - 0s 7ms/step - loss: 0.0050 - val_loss: 0.0196\n",
            "Epoch 5/16\n",
            "41/41 [==============================] - 0s 6ms/step - loss: 0.0049 - val_loss: 0.0174\n",
            "Epoch 6/16\n",
            "41/41 [==============================] - 0s 6ms/step - loss: 0.0045 - val_loss: 0.0137\n",
            "Epoch 7/16\n",
            "41/41 [==============================] - 0s 5ms/step - loss: 0.0044 - val_loss: 0.0144\n",
            "Epoch 8/16\n",
            "41/41 [==============================] - 0s 6ms/step - loss: 0.0038 - val_loss: 0.0088\n",
            "Epoch 9/16\n",
            "41/41 [==============================] - 0s 7ms/step - loss: 0.0040 - val_loss: 0.0072\n",
            "Epoch 10/16\n",
            "41/41 [==============================] - 0s 7ms/step - loss: 0.0036 - val_loss: 0.0050\n",
            "Epoch 11/16\n",
            "41/41 [==============================] - 0s 7ms/step - loss: 0.0024 - val_loss: 0.0036\n",
            "Epoch 12/16\n",
            "41/41 [==============================] - 0s 7ms/step - loss: 0.0021 - val_loss: 0.0025\n",
            "Epoch 13/16\n",
            "41/41 [==============================] - 0s 6ms/step - loss: 0.0017 - val_loss: 0.0024\n",
            "Epoch 14/16\n",
            "41/41 [==============================] - 0s 6ms/step - loss: 0.0016 - val_loss: 0.0032\n",
            "Epoch 15/16\n",
            "41/41 [==============================] - 0s 6ms/step - loss: 0.0015 - val_loss: 0.0065\n",
            "Epoch 16/16\n",
            "41/41 [==============================] - 0s 6ms/step - loss: 0.0015 - val_loss: 0.0023\n"
          ]
        }
      ],
      "source": [
        "model = build_lstm_model(\n",
        "    X_train, output_size=1, neurons=lstm_neurons, dropout=dropout, loss=loss,\n",
        "    optimizer=optimizer)\n",
        "modelfit = model.fit(\n",
        "    X_train, y_train, validation_data=(X_test, y_test), epochs=epochs, batch_size=batch_size, verbose=1, shuffle=True)"
      ]
    },
    {
      "cell_type": "code",
      "execution_count": 134,
      "metadata": {
        "colab": {
          "base_uri": "https://localhost:8080/",
          "height": 295
        },
        "id": "m5ilATOy1ZqE",
        "outputId": "c45ab5f2-3cbb-4afb-b88f-d1fdd777970e"
      },
      "outputs": [
        {
          "output_type": "display_data",
          "data": {
            "image/png": "[encoded data removed]",
            "text/plain": [
              "<Figure size 432x288 with 1 Axes>"
            ]
          },
          "metadata": {
            "needs_background": "light"
          }
        }
      ],
      "source": [
        "import matplotlib.pyplot as plt\n",
        "plt.plot(modelfit.history['loss'],'r',linewidth=2, label='Training loss')\n",
        "plt.plot(modelfit.history['val_loss'], 'g',linewidth=2, label='Validation loss')\n",
        "plt.title('RNN Neural Networks - ETH Model')\n",
        "plt.xlabel('Epochs numbers')\n",
        "plt.ylabel('MSE numbers')\n",
        "plt.show()"
      ]
    },
    {
      "cell_type": "code",
      "execution_count": 135,
      "metadata": {
        "colab": {
          "base_uri": "https://localhost:8080/"
        },
        "id": "MyfyB5SA1saZ",
        "outputId": "463802a2-4774-44bc-f182-48d580893452"
      },
      "outputs": [
        {
          "output_type": "execute_result",
          "data": {
            "text/plain": [
              "0.03979729297154955"
            ]
          },
          "metadata": {},
          "execution_count": 135
        }
      ],
      "source": [
        "preds = model.predict(X_test).squeeze()\n",
        "mean_absolute_error(preds, y_test)"
      ]
    },
    {
      "cell_type": "code",
      "execution_count": 136,
      "metadata": {
        "colab": {
          "base_uri": "https://localhost:8080/"
        },
        "id": "pJbbB0Ji1u3z",
        "outputId": "6fe4919b-0055-4374-cbee-8a307f92d89a"
      },
      "outputs": [
        {
          "output_type": "execute_result",
          "data": {
            "text/plain": [
              "0.0023235646943942415"
            ]
          },
          "metadata": {},
          "execution_count": 136
        }
      ],
      "source": [
        "from sklearn.metrics import mean_squared_error\n",
        "SCORE_MSE=mean_squared_error(preds, y_test)\n",
        "SCORE_MSE"
      ]
    },
    {
      "cell_type": "code",
      "execution_count": 137,
      "metadata": {
        "colab": {
          "base_uri": "https://localhost:8080/"
        },
        "id": "jYFWq3gI10a6",
        "outputId": "3f908ef6-138d-4d98-9d18-213005f16be5"
      },
      "outputs": [
        {
          "output_type": "execute_result",
          "data": {
            "text/plain": [
              "97.46824366723008"
            ]
          },
          "metadata": {},
          "execution_count": 137
        }
      ],
      "source": [
        "from sklearn.metrics import r2_score\n",
        "r2_score=r2_score(y_test, preds)\n",
        "r2_score*100"
      ]
    },
    {
      "cell_type": "code",
      "source": [
        "line_plot(y_test, preds, 'training', 'test', title='')"
      ],
      "metadata": {
        "colab": {
          "base_uri": "https://localhost:8080/",
          "height": 428
        },
        "id": "li3wePqnLM4u",
        "outputId": "acc9fc98-621b-43dc-dba1-cf6b02246c5f"
      },
      "execution_count": 138,
      "outputs": [
        {
          "output_type": "display_data",
          "data": {
            "image/png": "[encoded data removed]",
            "text/plain": [
              "<Figure size 936x504 with 1 Axes>"
            ]
          },
          "metadata": {
            "needs_background": "light"
          }
        }
      ]
    },
    {
      "cell_type": "code",
      "source": [
        "def test_normalise_zero_base(continuous):\n",
        "    return continuous / continuous[0] - 1"
      ],
      "metadata": {
        "id": "WuLS78BWVr0e"
      },
      "execution_count": 139,
      "outputs": []
    },
    {
      "cell_type": "code",
      "source": [
        "prediction = np.array([2575.391602,2590.087891,2314.719238,26126395392])\n",
        "prediction = test_normalise_zero_base(prediction)\n"
      ],
      "metadata": {
        "id": "2TOO3rNZT1dT"
      },
      "execution_count": 140,
      "outputs": []
    },
    {
      "cell_type": "code",
      "source": [
        "prediction"
      ],
      "metadata": {
        "colab": {
          "base_uri": "https://localhost:8080/"
        },
        "id": "7T5vzP-3Y7DC",
        "outputId": "a77d988b-de3f-4784-d364-faf8178ba524"
      },
      "execution_count": 149,
      "outputs": [
        {
          "output_type": "execute_result",
          "data": {
            "text/plain": [
              "array([[[ 0.00000000e+00,  5.70642887e-03, -1.01216593e-01,\n",
              "          1.01446292e+07]]])"
            ]
          },
          "metadata": {},
          "execution_count": 149
        }
      ]
    },
    {
      "cell_type": "code",
      "source": [
        "prediction = np.expand_dims(prediction, axis=0)"
      ],
      "metadata": {
        "id": "ZR7azoFFUker"
      },
      "execution_count": 141,
      "outputs": []
    },
    {
      "cell_type": "code",
      "source": [
        "prediction = np.expand_dims(prediction, axis=0)"
      ],
      "metadata": {
        "id": "mpjjdjrQWRCA"
      },
      "execution_count": 142,
      "outputs": []
    },
    {
      "cell_type": "code",
      "source": [
        "model.predict(prediction)\n",
        "print(\"\"\"-0.04899706 equeals of 2608.594277 USDT\n",
        "Real ETH Value (for 2/24/2022) is 2562.79248 \n",
        "Test Accuracy is %98.21 \"\"\")"
      ],
      "metadata": {
        "colab": {
          "base_uri": "https://localhost:8080/"
        },
        "id": "wyNguv_LUdic",
        "outputId": "a44a989f-a7d7-48f5-8133-a5d807a987eb"
      },
      "execution_count": 153,
      "outputs": [
        {
          "output_type": "stream",
          "name": "stdout",
          "text": [
            "-0.04899706 equeals of 2608.594277 USDT\n",
            "Real ETH Value (for 2/24/2022) is 2562.79248 \n",
            "Test Accuracy is %98.21 \n"
          ]
        }
      ]
    }
  ],
  "metadata": {
    "colab": {
      "name": "Cryptocurrency [ETH/USDT] prediction with RNN Neural Network Artificial Intelligence.ipynb",
      "provenance": [],
      "collapsed_sections": []
    },
    "kernelspec": {
      "display_name": "Python 3",
      "name": "python3"
    },
    "language_info": {
      "name": "python"
    }
  },
  "nbformat": 4,
  "nbformat_minor": 0
}